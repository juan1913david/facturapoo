{
 "cells": [
  {
   "cell_type": "code",
   "execution_count": null,
   "metadata": {},
   "outputs": [
    {
     "name": "stdout",
     "output_type": "stream",
     "text": [
      "               TECNOSTORE \n",
      "            TEL: 3003232112 \n",
      "                FRENESI \n",
      "              CRA 1 #3-08\n",
      "\n",
      "Aunt. DIAN 18764027319797  FEC 01/04/2022 \n",
      "FECHA: 2022-10-10  HORA: 18:57:12.486319 \n",
      "CAJERO: JUAN DE LA CRUZ GUERRA\n",
      "=============================================\n",
      "CIENTE: JUAN MANUEL BENAVIDES \n",
      "C.C:  1003864158\n",
      "=============================================\n",
      "usd DESCRIPCION      PRECIO      TOTAL\n",
      "=============================================\n",
      "2   Xiaomi        3200000       6400000\n",
      "      TOTAL:       6400000\n",
      "=============================================\n",
      "              FORMA DE PAGO \n",
      "     EFECTIVO        5000000 \n",
      "     CAMBIO        -1400000\n",
      "=============================================\n",
      "           www.TECNOSTORE.com.co \n",
      "         ¡GRACIAS POR TU COMPRA! \n",
      "¡ADQUIERE TU EQUIPO Y SE UNO MAS DE NOSTROS !\n"
     ]
    },
    {
     "data": {
      "image/png": "[encoded data removed]",
      "text/plain": [
       "<IPython.core.display.Image object>"
      ]
     },
     "execution_count": 101,
     "metadata": {
      "image/png": {
       "height": 100,
       "width": 100
      }
     },
     "output_type": "execute_result"
    }
   ],
   "source": [
    "from datetime import datetime\n",
    "from reportlab.lib.pagesizes import letter\n",
    "from reportlab.pdfgen import canvas\n",
    "from IPython.display import Image\n",
    "\n",
    "\n",
    "equipos={'pc APPLE':6000000,'pc Asus':4500000,'pc DELL':3000000,'pc Huawei':4600000,'pc Lenovo':5000000,'Huawei':2000000,'Apple':9300000,'Xiaomi':3200000,'LG':1200000,'Motorola':1500000}\n",
    "\n",
    "\n",
    "\n",
    "class Cliente:\n",
    "\n",
    "    date = datetime.now()\n",
    "    fecha=date.date()\n",
    "    hora=date.time()\n",
    "\n",
    "    totalpagar=0\n",
    "\n",
    "    separacion=\"=============================================\"\n",
    "\n",
    "    def __init__(self,nombrecom,identificacion):\n",
    "        self.nombrecom= nombrecom\n",
    "        self.identificacion=identificacion\n",
    "    \n",
    "    def factura(self):\n",
    "        print('               TECNOSTORE','\\n            TEL: 3003232112','\\n                FRENESI','\\n              CRA 1 #3-08')\n",
    "        print('\\nAunt. DIAN 18764027319797  FEC 01/04/2022','\\nFECHA:',self.fecha,' HORA:',self.hora,'\\nCAJERO: JUAN DE LA CRUZ GUERRA')\n",
    "        print(self.separacion)\n",
    "        print('CIENTE:',self.nombrecom,'\\nC.C: ',self.identificacion)\n",
    "        print(self.separacion)\n",
    "        print('usd DESCRIPCION      PRECIO      TOTAL')\n",
    "        print(self.separacion)\n",
    "\n",
    "        while True:\n",
    "            self.articulo=str(input('nombre del articulo'))\n",
    "            self.precio=equipos[self.articulo]\n",
    "            self.unidades=int(input('unidades')) \n",
    "            self.total=self.precio*self.unidades\n",
    "            print(  self.unidades,' ',   self.articulo,'      ',   self.precio,'     ',    self.total)\n",
    "            self.totalpagar=self.totalpagar+self.total\n",
    "            opcion=str(input('MP-TR'))\n",
    "            if opcion=='TR':\n",
    "                break\n",
    "        print('      TOTAL:      ',self.totalpagar)\n",
    "        print(self.separacion)\n",
    "        self.dinerorecibido=int(input('DINERO RESIVIDO EN CAJA '))\n",
    "        self.cambio=self.dinerorecibido-self.totalpagar\n",
    "        print('              FORMA DE PAGO','\\n     EFECTIVO       ',self.dinerorecibido,'\\n     CAMBIO       ',self.cambio)\n",
    "        print(self.separacion)\n",
    "        print('           www.TECNOSTORE.com.co','\\n         ¡GRACIAS POR TU COMPRA!','\\n¡ADQUIERE TU EQUIPO Y SE UNO MAS DE NOSTROS !')\n",
    "\n",
    "\n",
    "    def mostrarfactura(self):\n",
    "        w, h = letter\n",
    "        c=canvas.Canvas('caja Nº 2.pdf',pagesize=letter)\n",
    "        c.setFont('Helvetica',10)\n",
    "        c.rect(160,h-660,300,640)\n",
    "        c.drawString(210,710,'                  TECNOSTORE')\n",
    "        c.drawString(210,699,'                TEL: 3003232112')\n",
    "        c.drawString(210,684,'                       FRENECI')\n",
    "        c.drawString(210,674,'                    CRA 1 #3-08')\n",
    "        c.drawString(210,660,f\"FECHA:{self.fecha} HORA: {self.hora}\")\n",
    "        c.drawString(210,650,'CAJERO: JUAN DE LA CRUZ GUERRA')\n",
    "        c.drawString(180,640,self.separacion)\n",
    "        c.drawString(210,630,f'CLIENTE: {self.nombrecom}')\n",
    "        c.drawString(210,620,f'IDENTIFICACION: {self.identificacion}')\n",
    "        c.drawString(1800,610,self.separacion)\n",
    "        c.drawString(210,600,'   Uds DESCRIPCION        PRECIO        TOTAL')\n",
    "        c.drawString(180,590,self.separacion)\n",
    "\n",
    "\n",
    "        c.drawString(210,570,f'      {      self.unidades}         {      self.articulo}                 {      self.precio}            {      self.total}')\n",
    "\n",
    "        c.drawString(210,550,f'      TOTAL:      {self.totalpagar}')\n",
    "        c.drawString(180,540,self.separacion)\n",
    "        c.drawString(210,520,'                FORMA DE PAGO')\n",
    "        c.drawString(210,500,f'     EFECTIVO:       {self.dinerorecibido}')\n",
    "        c.drawString(210,480,f'       CAMBIO:       {self.cambio}')\n",
    "        c.drawString(180,470,self.separacion)\n",
    "        c.drawString(210,450,'           www.TECNOSTORE.com.co')\n",
    "        c.drawString(210,430,'          ¡GRACIAS POR TU COMPRA!')\n",
    "        c.drawString(180,410,'¡ADQUIERE TU EQUIPO Y SE UNO MAS DE NOSTROS !')\n",
    "        c.drawImage('Untitled.png',250,h-540,width=100,height=100)\n",
    "        c.save()\n",
    "\n",
    "\n",
    "\n",
    "\n",
    "\n",
    "objeto=Cliente(str(input(\"INGRESE EL NOMBRE DE EL CLIENTE\")),str(input(\"INGRESE EL DOCUMENTO DE EL CLIENTE\")))\n",
    "objeto.factura()\n",
    "objeto.mostrarfactura()\n",
    "Image('Untitled.png',width=100,height=100)\n",
    "\n",
    "\n",
    "\n",
    "\n"
   ]
  }
 ],
 "metadata": {
  "kernelspec": {
   "display_name": "Python 3",
   "language": "python",
   "name": "python3"
  },
  "language_info": {
   "codemirror_mode": {
    "name": "ipython",
    "version": 3
   },
   "file_extension": ".py",
   "mimetype": "text/x-python",
   "name": "python",
   "nbconvert_exporter": "python",
   "pygments_lexer": "ipython3",
   "version": "3.10.7 (tags/v3.10.7:6cc6b13, Sep  5 2022, 14:08:36) [MSC v.1933 64 bit (AMD64)]"
  },
  "orig_nbformat": 4,
  "vscode": {
   "interpreter": {
    "hash": "a9cff5a362bc38ef45d817ae74b1af54d6a076e3d773891282bce078b815ba34"
   }
  }
 },
 "nbformat": 4,
 "nbformat_minor": 2
}
